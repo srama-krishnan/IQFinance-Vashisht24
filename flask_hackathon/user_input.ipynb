{
 "cells": [
  {
   "cell_type": "code",
   "execution_count": null,
   "metadata": {},
   "outputs": [],
   "source": [
    "import pandas as pd\n",
    "import joblib"
   ]
  },
  {
   "cell_type": "code",
   "execution_count": 15,
   "metadata": {},
   "outputs": [],
   "source": [
    "def take_user_inputs(df):\n",
    "    inputs = {}\n",
    "    for column in df.columns:\n",
    "        if column != 'SeriousDlqin2yrs':  # Exclude the target column\n",
    "            inputs[column] = input(f\"Enter value for {column}: \")\n",
    "    return inputs"
   ]
  },
  {
   "cell_type": "code",
   "execution_count": 16,
   "metadata": {},
   "outputs": [],
   "source": [
    "def preprocess_inputs(inputs, df):\n",
    "    # Convert inputs to DataFrame\n",
    "    inputs_df = pd.DataFrame([inputs])\n",
    "\n",
    "    # Reorder columns to match the training data\n",
    "    inputs_df = inputs_df[df.columns[:-1]]\n",
    "\n",
    "    # Add missing columns, if any\n",
    "    missing_columns = set(df.columns) - set(inputs_df.columns)\n",
    "    for col in missing_columns:\n",
    "        inputs_df[col] = 0  # You can set any default value here, like 0 or mean value\n",
    "\n",
    "    return inputs_df"
   ]
  },
  {
   "cell_type": "code",
   "execution_count": 17,
   "metadata": {},
   "outputs": [],
   "source": [
    "def predict(model_path, inputs_df):\n",
    "    # Load the trained model\n",
    "    model = joblib.load(model_path)\n",
    "\n",
    "    # Make predictions\n",
    "    predictions = model.predict(inputs_df)\n",
    "\n",
    "    return predictions\n"
   ]
  },
  {
   "cell_type": "code",
   "execution_count": 18,
   "metadata": {},
   "outputs": [
    {
     "name": "stdout",
     "output_type": "stream",
     "text": [
      "   RevolvingUtilizationOfUnsecuredLines  NumberOfTime30-59DaysPastDueNotWorse  \\\n",
      "0                              0.885519                                     0   \n",
      "1                              0.463295                                     0   \n",
      "2                              0.043275                                     0   \n",
      "3                              0.280308                                     1   \n",
      "4                              1.000000                                     0   \n",
      "\n",
      "   DebtRatio  MonthlyIncome  NumberOfOpenCreditLinesAndLoans  \\\n",
      "0   0.177513         5700.0                                4   \n",
      "1   0.527237         9141.0                               15   \n",
      "2   0.687648         5083.0                               12   \n",
      "3   0.925961         3200.0                                7   \n",
      "4   0.019917         3865.0                                4   \n",
      "\n",
      "   NumberOfTimes90DaysLate  NumberRealEstateLoansOrLines  \\\n",
      "0                        0                             0   \n",
      "1                        0                             4   \n",
      "2                        0                             1   \n",
      "3                        0                             2   \n",
      "4                        0                             0   \n",
      "\n",
      "   NumberOfTime60-89DaysPastDueNotWorse  NumberOfDependents  \n",
      "0                                     0                 0.0  \n",
      "1                                     0                 2.0  \n",
      "2                                     0                 2.0  \n",
      "3                                     0                 0.0  \n",
      "4                                     0                 1.0  \n",
      "Prediction: [0]\n"
     ]
    }
   ],
   "source": [
    "df_test = pd.read_csv(\"GMSC-testing.csv\")\n",
    "df_test = df_test.drop(df_test.columns[0], axis=1)\n",
    "df_test = df_test.drop(df_test.columns[0], axis=1)\n",
    "df_test = df_test.fillna(df_test.mean())\n",
    "df_test = df_test.drop([\"age\"], axis=1)\n",
    "print(df_test.head())\n",
    "\n",
    "    # Load the trained model\n",
    "model = joblib.load('trained_model.pkl')\n",
    "\n",
    "# Take user inputs\n",
    "user_inputs = take_user_inputs(df_test)\n",
    "\n",
    "# Preprocess inputs\n",
    "processed_inputs = preprocess_inputs(user_inputs, df_test)\n",
    "\n",
    "# Make predictions\n",
    "predictions = predict(\"trained_model.pkl\", processed_inputs)\n",
    "\n",
    "# Output the predictions\n",
    "print(\"Prediction:\", predictions)"
   ]
  }
 ],
 "metadata": {
  "kernelspec": {
   "display_name": "Python 3",
   "language": "python",
   "name": "python3"
  },
  "language_info": {
   "codemirror_mode": {
    "name": "ipython",
    "version": 3
   },
   "file_extension": ".py",
   "mimetype": "text/x-python",
   "name": "python",
   "nbconvert_exporter": "python",
   "pygments_lexer": "ipython3",
   "version": "3.10.8"
  }
 },
 "nbformat": 4,
 "nbformat_minor": 2
}
